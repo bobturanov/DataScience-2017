{
 "cells": [
  {
   "cell_type": "markdown",
   "metadata": {},
   "source": [
    "<header>\n",
    "    <h1>Вступительное задание ЛШ DataScience 2017</h1>\n",
    "  </header>\n",
    "  <h2>Задание 3. «На подумать»</h2>"
   ]
  },
  {
   "cell_type": "markdown",
   "metadata": {},
   "source": [
    "<p>Прежде чем решать задачу её необходимо доопределить:</p>\n",
    "<p>Уточнение 1: пьница стоит лицом к  обрыву, а не спиной.</p>\n",
    "<p>Уточнение 2: на втором шаге пьяница падает с обрыва.</p>\n",
    "<p>Описание решения:</p>\n",
    "<p>Составляется таблица (i+1; j+1), где i = N, j = N, i - возможное количество шагов вперед, j - возможное количество шагов назад, N - введённое число</p>\n",
    "<p>i + j - общее количество шагов</p>\n",
    "<p>j - i - положение на координатной прямой</p>\n",
    "<p>A(0;0) = 1 - вероятность в начальный момент времени оказаться в начале координат.</p>\n",
    "<p>Для общности формулы(т.е. для строки 0 и столбца 0) (A = ver)</p>\n",
    "<p>A(-1;j) = 0</p>\n",
    "<p>A(i;-1) = 0</p>\n",
    "<p>Каждая ячейка таблицы - вероятность оказаться в точке j - i на координатной прямой за i + j шагов,</p>\n",
    "<p>тогда вероятность ячейки: A(i;j) = A(i-1;j)*(2/3)+A(i;j-1)*(1/3)</p>\n",
    "<p>2/3 - вероятность сделать шаг назад </p>\n",
    "<p>1/3 - вероятность сделать шаг вперёд</p></p>\n",
    "<p>Вероятность остаться в живых - сумма элементов по диагонали - выводимое число</p>"
   ]
  },
  {
   "cell_type": "markdown",
   "metadata": {},
   "source": [
    "<p>Ответ:</p>\n",
    "<p>Вероятность того, что после 5 шагов пьяница не свалился = 0.840 </p>"
   ]
  },
  {
   "cell_type": "markdown",
   "metadata": {},
   "source": [
    "<p>Программа для расчёта значения функции, принимающей N и возвращающей вероятность того, что после этих N шагов пьяница жив.↓</p>"
   ]
  },
  {
   "cell_type": "code",
   "execution_count": null,
   "metadata": {
    "collapsed": false
   },
   "outputs": [],
   "source": [
    "ver = 0\n",
    "n = int(input())\n",
    "n = abs(n)\n",
    "if n == 0:\n",
    "    print(1)\n",
    "else:\n",
    "    p = 1 / 3\n",
    "    q = 2 / 3\n",
    "    p1 = 0\n",
    "    nmass = n + 1\n",
    "    a = []\n",
    "    a = [[0] * nmass for i in range(nmass)]\n",
    "    #for i in range(nmass):\n",
    "    #    print(a[i])\n",
    "    #print(a[i][0])\n",
    "\n",
    "\n",
    "    tmp = 3\n",
    "    for i in range(n + 1):\n",
    "        if i >= 2:\n",
    "            a[i][0] = 0\n",
    "        else:\n",
    "            a[i][0] = tmp * (1 / 3)\n",
    "        tmp = a[i][0]\n",
    "        for j in range(n):\n",
    "\n",
    "            if i > 0:\n",
    "                if i-(j+1) >= 2:\n",
    "                    a[i][j + 1] = 0\n",
    "                else:\n",
    "                    a[i][j + 1] = a[i][j] * (2 / 3) + a[i-1][j + 1] * (1/3)\n",
    "            else:\n",
    "                a[i][j + 1] = a[i][j] * (2 / 3)\n",
    "\n",
    "    for i in range(n + 1):\n",
    "        ver += a[i][n-i]\n",
    "\n",
    "    #for i in range(nmass):\n",
    "        #print(a[i])\n",
    "    print(ver)"
   ]
  },
  {
   "cell_type": "markdown",
   "metadata": {},
   "source": [
    "<h3>График функции</h3>"
   ]
  },
  {
   "cell_type": "code",
   "execution_count": 1,
   "metadata": {
    "collapsed": false
   },
   "outputs": [
    {
     "data": {
      "image/png": "[encoded data removed]",
      "text/plain": [
       "<matplotlib.figure.Figure at 0x1e79b293978>"
      ]
     },
     "metadata": {},
     "output_type": "display_data"
    }
   ],
   "source": [
    "import matplotlib.pyplot as plt\n",
    "#ver = 0\n",
    "\n",
    "p = 1 / 3\n",
    "q = 2 / 3\n",
    "p1 = 0\n",
    "ver = [0 for i in range(25)]\n",
    "num = []\n",
    "for i in range(25):\n",
    "    num.append(i)\n",
    "\n",
    "for n in range(25):\n",
    "    if n == 0:\n",
    "        nmass = n + 1\n",
    "        a = []\n",
    "        a = [[0] * nmass for i in range(nmass)]\n",
    "\n",
    "        ver[n] = 1.0\n",
    "    else:\n",
    "\n",
    "        p = 1 / 3\n",
    "        q = 2 / 3\n",
    "        p1 = 0\n",
    "        nmass = n + 1\n",
    "        a = []\n",
    "        a = [[0] * nmass for i in range(nmass)]\n",
    "      \n",
    "\n",
    "\n",
    "        tmp = 3\n",
    "        for i in range(n + 1):\n",
    "            if i >= 2:\n",
    "                a[i][0] = 0\n",
    "            else:\n",
    "                a[i][0] = tmp * (1 / 3)\n",
    "            tmp = a[i][0]\n",
    "            for j in range(n):\n",
    "\n",
    "                if i > 0:\n",
    "                    if i - (j + 1) >= 2:\n",
    "                        a[i][j + 1] = 0\n",
    "                    else:\n",
    "                        a[i][j + 1] = a[i][j] * (2 / 3) + a[i - 1][j + 1] * (1 / 3)\n",
    "                else:\n",
    "                    a[i][j + 1] = a[i][j] * (2 / 3)\n",
    "\n",
    "        for i in range(n + 1):\n",
    "            ver[n] += a[i][n-i]\n",
    "\n",
    "        \n",
    "\n",
    "plt.rcParams['figure.figsize'] = (10, 8)\n",
    "plt.xlabel('Шаги')\n",
    "plt.ylabel('Вероятность')\n",
    "plt.plot(num, ver)\n",
    "\n",
    "plt.axis([0, max(num), 0.6, 1.001])\n",
    "plt.show()"
   ]
  }
 ],
 "metadata": {
  "kernelspec": {
   "display_name": "Python 3",
   "language": "python",
   "name": "python3"
  },
  "language_info": {
   "codemirror_mode": {
    "name": "ipython",
    "version": 3
   },
   "file_extension": ".py",
   "mimetype": "text/x-python",
   "name": "python",
   "nbconvert_exporter": "python",
   "pygments_lexer": "ipython3",
   "version": "3.6.0"
  }
 },
 "nbformat": 4,
 "nbformat_minor": 2
}
