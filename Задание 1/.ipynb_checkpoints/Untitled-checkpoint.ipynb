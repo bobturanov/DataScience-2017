{
 "cells": [
  {
   "cell_type": "markdown",
   "metadata": {},
   "source": [
    "<header>\n",
    "    <h1>Вступительное задание ЛШ DataScience 2017</h1>\n",
    "  </header>\n",
    "  <h2>Задание 1. «Творческое»</h2>"
   ]
  },
  {
   "cell_type": "markdown",
   "metadata": {},
   "source": [
    "Выполнение статистического анализа приложенного датасета о покемонах."
   ]
  },
  {
   "cell_type": "code",
   "execution_count": null,
   "metadata": {
    "collapsed": false,
    "scrolled": true
   },
   "outputs": [],
   "source": [
    "%matplotlib inline\n",
    "import pandas as pd\n",
    "import numpy as np\n",
    "import matplotlib.pyplot as plt\n",
    "data = pd.read_csv('pokemon.csv')\n",
    "plt.style.use('ggplot')\n",
    "plt.rcParams['figure.figsize'] = (20, 8)\n"
   ]
  },
  {
   "cell_type": "markdown",
   "metadata": {},
   "source": [
    "<h3>Вводимые данные</h3>"
   ]
  },
  {
   "cell_type": "code",
   "execution_count": null,
   "metadata": {
    "collapsed": false,
    "scrolled": false
   },
   "outputs": [],
   "source": [
    "data.head()\n"
   ]
  },
  {
   "cell_type": "markdown",
   "metadata": {},
   "source": [
    "<h3>Разбиение покемонов по типам </h3>"
   ]
  },
  {
   "cell_type": "code",
   "execution_count": null,
   "metadata": {
    "collapsed": false
   },
   "outputs": [],
   "source": [
    "data['species'].value_counts()[:16].plot(kind='bar', color='orange')"
   ]
  },
  {
   "cell_type": "markdown",
   "metadata": {},
   "source": [
    "<h3>Определение типа распределения покемонов по росту</h3> "
   ]
  },
  {
   "cell_type": "code",
   "execution_count": null,
   "metadata": {
    "collapsed": false
   },
   "outputs": [],
   "source": [
    "import math\n",
    "import scipy.stats as ss\n",
    "\n",
    "#fig, ax = plt.subplots(1, 1)\n",
    "\n",
    "#from scipy.stats import expon\n",
    "rate = list(map(int, pd.read_csv('pokemon.csv', usecols=['height'], squeeze=False).values))\n",
    "#print(len(rate))\n",
    "df = 23\n",
    "#print(ss.weibull_min.fit(rate))\n",
    "loc, scale = ss.expon.fit(rate) \n",
    "c, loc1, scale1 = ss.weibull_min.fit(rate)\n",
    "dff, loc2, scale2 = ss.chi2.fit(rate, df) \n",
    "x = np.linspace(np.min(rate), np.max(rate) + 10, len(rate) * 2) # формула Стэджесса\n",
    "distr_data = ss.expon.pdf(x, loc, scale) #e\n",
    "distr_data1 = ss.weibull_min.pdf(x, c, loc1, scale1) #Вейбулла\n",
    "distr_data2 = ss.chi2.pdf(x, dff, loc2, scale2) # х кв -распределение\n",
    "plt.xlabel('Высота')\n",
    "plt.ylabel('Частота')\n",
    "plt.plot(x, distr_data2, 'r--', color = 'Aqua') \n",
    "plt.plot(x, distr_data, 'r--', color = 'Red')\n",
    "plt.plot(x, distr_data1, 'r--', color = 'Blue')\n",
    "plt.hist(rate, bins=int((max(rate)-min(rate))/(1+3.322*math.log10(len(rate)))),normed=1,color = 'green')  # plt.hist passes it's arguments to np.histogram\n",
    "plt.title(\"Распределение по росту\")\n",
    "plt.show()"
   ]
  },
  {
   "cell_type": "markdown",
   "metadata": {},
   "source": [
    "\n",
    "<p><img src=\"https://pp.userapi.com/c639617/v639617485/27094/3De1gdAGSHg.jpg\" alt=\"e\" align=\"left\"></p>\n",
    "<p>Экспоненциальное распределение для приведенных данных.</p> \n",
    "<p><img src=\"https://pp.userapi.com/c639617/v639617485/27126/ai8in9X7qEs.jpg\" alt=\"e\" align=\"left\"></p>\n",
    "<p>Распределение хи-квадрат для приведенных данных.</p>\n",
    "<p><img src=\"https://pp.userapi.com/c639617/v639617485/2711b/nGcNLOKXs7g.jpg\" alt=\"e\" align=\"left\"></p>\n",
    "<p>Распределение Вейбулла для приведенных данных.</p>\n"
   ]
  },
  {
   "cell_type": "markdown",
   "metadata": {},
   "source": [
    "<h3> Оценка коэффициента вариации</h3> \n",
    "<p>Полученное значение Vx сравнивается со следующей таблицей и делается вывод, какое распределение лучше подходит:</p>\n"
   ]
  },
  {
   "cell_type": "markdown",
   "metadata": {},
   "source": [
    "<tbody><tr><td>Vx &lt;= 0.3</td><td>Нормальный</td></tr><tr><td>0.3 &lt;= Vx &lt; 0.4</td><td>Гамма-распределение</td></tr><tr><td>0.4 &lt;= Vx &lt; 1</td><td>Вейбулла</td></tr><tr><td>Vx = 1</td><td> Экспоненциальный</td></tr></tbody>"
   ]
  },
  {
   "cell_type": "code",
   "execution_count": null,
   "metadata": {
    "collapsed": false
   },
   "outputs": [],
   "source": [
    "mean = np.sum(rate)/len(rate)\n",
    "print(\"mean = {0}\".format(mean))\n",
    "S = np.sqrt(np.sum((rate-np.mean(rate))**2)/len(rate)-1)\n",
    "print(\"S = {0}\".format(S))\n",
    "Vx = S/mean\n",
    "print(\"Vx = {0}\".format(Vx)) "
   ]
  },
  {
   "cell_type": "markdown",
   "metadata": {},
   "source": [
    "<p>Оценка коэффициента вариации Vx = 0.913 ближе всего к экспоненциальному значению, значит тип распределения покемонов по росту вероятностно экспоненциальный.<p/>\n",
    "<p>Помимо коэффициента вариации были также расчитаны среднее значение - mean и стандартное отклонение - S<p/>"
   ]
  },
  {
   "cell_type": "markdown",
   "metadata": {},
   "source": [
    "<p><h3>Критерий согласия</h3><p/>\n",
    "\n",
    "<p>Проверка гипотезы о согласии распределения исследуемой совокупности с теоретическими распределениями используя критерий согласия Пирсона<p/>\n",
    " "
   ]
  },
  {
   "cell_type": "code",
   "execution_count": null,
   "metadata": {
    "collapsed": false,
    "scrolled": true
   },
   "outputs": [],
   "source": [
    "counts, bins = np.histogram(rate, bins=int((max(rate)-min(rate))/(1+3.322*math.log10(len(rate)))))\n",
    "#print(counts, bins)\n",
    "p_observed = np.array(counts, dtype=float)\n",
    "#print(p_observed)\n",
    "\n",
    "\n",
    "#weibull\n",
    "tmp = ss.weibull_min.cdf(bins, c, loc1, scale1)\n",
    "#print(tmp)\n",
    "p_expected = []\n",
    "for idx, p in enumerate(tmp):\n",
    "    #print(idx, p)\n",
    "    if idx == len(tmp) - 1:\n",
    "        break\n",
    "    p_expected.append(tmp[idx+1] - tmp[idx])\n",
    "#print(p_expected)\n",
    "p_expected = len(rate)*np.array(p_expected)\n",
    "chi_test_value, probability_fit = ss.chisquare(p_observed, np.array(p_expected, dtype=float))\n",
    "print('Вероятность того, что распределение Вейбулла подходит к полученным данным: {0:f}'.format(probability_fit))\n",
    "\n",
    "chi_star = np.sum((p_observed-p_expected)**2/p_expected)\n",
    "print(\"chi_star = {}\".format(chi_star))\n",
    "conf_interval = 0.95\n",
    "df = len(bins) - 2 - 1 \n",
    "chi = ss.weibull_min.ppf(conf_interval, df)  \n",
    "print(\"chi = {}\".format(chi))\n",
    "\n",
    "#expon\n",
    "tmp = ss.expon.cdf(bins, loc, scale)\n",
    "#print(tmp)\n",
    "p_expected = []\n",
    "for idx, p in enumerate(tmp):\n",
    "    #print(idx, p)\n",
    "    if idx == len(tmp) - 1:\n",
    "        break\n",
    "    p_expected.append(tmp[idx+1] - tmp[idx])\n",
    "#print(p_expected)\n",
    "p_expected = len(rate)*np.array(p_expected)\n",
    "chi_test_value, probability_fit = ss.chisquare(p_observed, np.array(p_expected, dtype=float))\n",
    "print('Вероятность того, что Экспоненциальное распределение подходит к полученным данным: {0:f}'.format(probability_fit))\n",
    "\n",
    "#chi2\n",
    "tmp = ss.chi2.cdf(bins, dff, loc2, scale2)\n",
    "#print(tmp)\n",
    "p_expected = []\n",
    "for idx, p in enumerate(tmp):\n",
    "    #print(idx, p)\n",
    "    if idx == len(tmp) - 1:\n",
    "        break\n",
    "    p_expected.append(tmp[idx+1] - tmp[idx])\n",
    "#print(p_expected)\n",
    "p_expected = len(rate)*np.array(p_expected)\n",
    "chi_test_value, probability_fit = ss.chisquare(p_observed, np.array(p_expected, dtype=float))\n",
    "print('Вероятность того, что Распределение хи-квадрат подходит к полученным данным: {0:f}'.format(probability_fit))\n"
   ]
  },
  {
   "cell_type": "markdown",
   "metadata": {},
   "source": [
    "<p>Ни одно из трех проверенных теоретических распределений не подходит к данной выборке</p>\n",
    "\n",
    "X > X* вычисленное нами подтверждает \n"
   ]
  },
  {
   "cell_type": "markdown",
   "metadata": {},
   "source": [
    "<p><h3>Эволюция покемонов</h3><p/>\n",
    "<p>Можно ввести имя покемона, программа выведет полную цепочку эволюции в которой участвует покемон</p>\n",
    "<p>Например:</p>\n",
    "<p class=\"fig\">\n",
    "<p><img src=\"http://i.ucrazy.ru/files/i/2008.12.29/thumbs/1230546844_134.png\" alt=\"e\" align=\"bottom\"></p></p>\n",
    "<p>Если ввести какого-либо покемона из этой цепочки, вывод будет:</p>\n",
    "<i><p>1 пополение:</p>\n",
    "<p>Wurmple</p>\n",
    "<p>2  поколение:</p>\n",
    "<p>Silcoon</p>\n",
    "<p>3  поколение:</p>\n",
    "<p>Beautifly</p>\n",
    "<p>2  поколение:</p>\n",
    "<p>Cascoon</p>\n",
    "<p>3  поколение:</p>\n",
    "<p>Dustox</p>\n",
    "\n",
    "<p>Всего поколений:  3</p></i>"
   ]
  },
  {
   "cell_type": "code",
   "execution_count": null,
   "metadata": {
    "collapsed": false,
    "scrolled": false
   },
   "outputs": [],
   "source": [
    "import pandas as pd\n",
    "import numpy as np\n",
    "name = list(map(str, pd.read_csv('pokemon.csv', usecols=['name'], squeeze=False).values))\n",
    "parent = list(map(str, pd.read_csv('pokemon.csv', usecols=['evolution_parent_pokemon_id'], squeeze=False).values))\n",
    "\n",
    "for i in range(len(parent)-1):\n",
    "    if parent[0] == parent[i+1]:\n",
    "        parent[i+1] = 0\n",
    "    elif len(parent[i+1]) == 5:\n",
    "        parent[i + 1] = int(parent[i + 1][2])\n",
    "    elif len(parent[i+1]) == 6:\n",
    "        parent[i + 1] = int(parent[i + 1][2] + parent[i + 1][3])\n",
    "    else:\n",
    "        parent[i + 1] = int(parent[i + 1][2] + parent[i + 1][3] + parent[i + 1][4])\n",
    "\n",
    "\n",
    "\n",
    "parent[0] = 0\n",
    "\n",
    "\n",
    "for i in range(len(name)):\n",
    "    namecor = ''\n",
    "    for j in range(len(name[i])-4):\n",
    "\n",
    "        namecor += name[i][j + 2]\n",
    "\n",
    "    name[i] = namecor\n",
    "\n",
    "def deepsearchup(iden):\n",
    "    if parent[iden] != 0:\n",
    "        deepsearchup(parent[iden] - 1)\n",
    "    else:\n",
    "        print('1 поколение:')\n",
    "        print(name[iden])\n",
    "        gen(1)\n",
    "        deepsearchdown(iden, 1)\n",
    "\n",
    "def gen(nmax):\n",
    "    global nnmax\n",
    "    nnmax = nmax\n",
    "    return nnmax\n",
    "\n",
    "def deepsearchdown(iden, n):\n",
    "    n += 1\n",
    "\n",
    "\n",
    "    flag = 0\n",
    "    for i in range(len(parent)):\n",
    "        if parent[i] == iden + 1:\n",
    "\n",
    "            print(n, ' поколение:')\n",
    "            flag = 1\n",
    "            print(name[i])\n",
    "            gen(n)\n",
    "            deepsearchdown(i, n)\n",
    "            #return n\n",
    "            #if\n",
    "\n",
    "\n",
    "target = input()\n",
    "target = target.title()\n",
    "#print(target)\n",
    "try:\n",
    "    index = (name.index(target))\n",
    "    #print(index, parent[index])\n",
    "    global n\n",
    "    deepsearchup(index)\n",
    "    print()\n",
    "    print('Всего поколений: ',nnmax)\n",
    "except ValueError:\n",
    "    print('Покемон не найден')\n"
   ]
  },
  {
   "cell_type": "markdown",
   "metadata": {},
   "source": [
    "<h3>Разбиение покемонов по цепочкам эволюции в которых они участвуют</h3>\n",
    "Цепочки характеризуются количеством поколений. "
   ]
  },
  {
   "cell_type": "code",
   "execution_count": 2,
   "metadata": {
    "collapsed": false
   },
   "outputs": [
    {
     "data": {
      "image/png": "[encoded data removed]",
      "text/plain": [
       "<matplotlib.figure.Figure at 0x20353dcc080>"
      ]
     },
     "metadata": {},
     "output_type": "display_data"
    }
   ],
   "source": [
    "import pandas as pd\n",
    "import numpy as np\n",
    "import matplotlib.pyplot as plt\n",
    "name = list(map(str, pd.read_csv('pokemon.csv', usecols=['name'], squeeze=False).values))\n",
    "parent = list(map(str, pd.read_csv('pokemon.csv', usecols=['evolution_parent_pokemon_id'], squeeze=False).values))\n",
    "\n",
    "for i in range(len(parent) - 1):\n",
    "    if parent[0] == parent[i + 1]:\n",
    "        parent[i + 1] = 0\n",
    "    elif len(parent[i + 1]) == 5:\n",
    "        parent[i + 1] = int(parent[i + 1][2])\n",
    "    elif len(parent[i + 1]) == 6:\n",
    "        parent[i + 1] = int(parent[i + 1][2] + parent[i + 1][3])\n",
    "    else:\n",
    "        parent[i + 1] = int(parent[i + 1][2] + parent[i + 1][3] + parent[i + 1][4])\n",
    "\n",
    "\n",
    "parent[0] = 0\n",
    "\n",
    "\n",
    "for i in range(len(name)):\n",
    "    namecor = ''\n",
    "    for j in range(len(name[i]) - 4):\n",
    "        namecor += name[i][j + 2]\n",
    "    name[i] = namecor\n",
    "\n",
    "\n",
    "\n",
    "def deepsearchup(iden):\n",
    "    if parent[iden] != 0:\n",
    "        deepsearchup(parent[iden] - 1)\n",
    "    else:\n",
    "\n",
    "        gen(1)\n",
    "        deepsearchdown(iden, 1)\n",
    "\n",
    "\n",
    "\n",
    "def gen(nmax):\n",
    "    global nnmax\n",
    "    nnmax = nmax\n",
    "    return nnmax\n",
    "\n",
    "\n",
    "def deepsearchdown(iden, n):\n",
    "    n += 1\n",
    "\n",
    "    flag = 0\n",
    "    for i in range(len(parent)):\n",
    "        if parent[i] == iden + 1:\n",
    "            flag = 1\n",
    "            gen(n)\n",
    "            deepsearchdown(i, n)\n",
    "\n",
    "genarr = []\n",
    "for l in range(len(name)):\n",
    "\n",
    "    target = name[l]\n",
    "    target = target.title()\n",
    "    # print(target)\n",
    "    try:\n",
    "        index = (name.index(target))\n",
    "        # print(index, parent[index])\n",
    "        global n\n",
    "        deepsearchup(index)\n",
    "\n",
    "        genarr.append(nnmax)\n",
    "        #print('масс', genarr)\n",
    "    except ValueError:\n",
    "       1\n",
    "\n",
    "plt.rcParams['figure.figsize'] = (14, 8)\n",
    "ww= 0.7\n",
    "plt.xlabel('Поколения')\n",
    "plt.ylabel('Покемоны')\n",
    "plt.bar([1,2,3], [genarr.count(1),genarr.count(2), genarr.count(3)],ww, color = 'Aqua' )\n",
    "plt.axis([0.7, 3.3, 0, 350])\n",
    "plt.xticks([1, 2, 3])\n",
    "plt.show()"
   ]
  }
 ],
 "metadata": {
  "kernelspec": {
   "display_name": "Python 3",
   "language": "python",
   "name": "python3"
  },
  "language_info": {
   "codemirror_mode": {
    "name": "ipython",
    "version": 3
   },
   "file_extension": ".py",
   "mimetype": "text/x-python",
   "name": "python",
   "nbconvert_exporter": "python",
   "pygments_lexer": "ipython3",
   "version": "3.6.0"
  }
 },
 "nbformat": 4,
 "nbformat_minor": 2
}
